{
 "cells": [
  {
   "cell_type": "markdown",
   "metadata": {},
   "source": [
    "### CESAR School :: Especialização em Ciência de Dados :: 2024.1\n",
    "Aula 02 :: xxxxx\n",
    "\n",
    "Séries Temporais\n",
    "\n",
    "```\n",
    "Data: 23 de janeiro de 2025 \n",
    "Prof.: Pedro Braga\n",
    "Aluno: Marlos Ribeiro\n",
    "```"
   ]
  },
  {
   "cell_type": "code",
   "execution_count": 2,
   "metadata": {},
   "outputs": [
    {
     "name": "stdout",
     "output_type": "stream",
     "text": [
      "\u001b[2mResolved \u001b[1m61 packages\u001b[0m \u001b[2min 0.47ms\u001b[0m\u001b[0m\n",
      "\u001b[2mAudited \u001b[1m55 packages\u001b[0m \u001b[2min 0.01ms\u001b[0m\u001b[0m\n",
      "\u001b[2mResolved \u001b[1m61 packages\u001b[0m \u001b[2min 0.70ms\u001b[0m\u001b[0m\n",
      "\u001b[2mAudited \u001b[1m55 packages\u001b[0m \u001b[2min 0.02ms\u001b[0m\u001b[0m\n"
     ]
    }
   ],
   "source": [
    "!uv add \"numpy<2\"\n",
    "!uv add pmdarima"
   ]
  },
  {
   "cell_type": "code",
   "execution_count": 3,
   "metadata": {},
   "outputs": [],
   "source": [
    "from pmdarima.arima import KPSSTest"
   ]
  }
 ],
 "metadata": {
  "kernelspec": {
   "display_name": ".venv",
   "language": "python",
   "name": "python3"
  },
  "language_info": {
   "codemirror_mode": {
    "name": "ipython",
    "version": 3
   },
   "file_extension": ".py",
   "mimetype": "text/x-python",
   "name": "python",
   "nbconvert_exporter": "python",
   "pygments_lexer": "ipython3",
   "version": "3.12.3"
  }
 },
 "nbformat": 4,
 "nbformat_minor": 2
}
