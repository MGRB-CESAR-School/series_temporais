{
 "cells": [
  {
   "cell_type": "markdown",
   "metadata": {},
   "source": [
    "### CESAR School :: Especialização em Ciência de Dados :: 2024.1\n",
    "Aula 01 :: xxxxx\n",
    "\n",
    "Séries Temporais\n",
    "\n",
    "```\n",
    "Data: 21 de janeiro de 2025 \n",
    "Prof.: Pedro Braga\n",
    "Aluno: Marlos Ribeiro\n",
    "```"
   ]
  },
  {
   "cell_type": "code",
   "execution_count": 1,
   "metadata": {},
   "outputs": [
    {
     "name": "stderr",
     "output_type": "stream",
     "text": [
      "\u001b[2mResolved \u001b[1m61 packages\u001b[0m \u001b[2min 287ms\u001b[0m\u001b[0m\n",
      "\u001b[2mInstalled \u001b[1m13 packages\u001b[0m \u001b[2min 5ms\u001b[0m\u001b[0m\n",
      " \u001b[32m+\u001b[39m \u001b[1mbeautifulsoup4\u001b[0m\u001b[2m==4.12.3\u001b[0m\n",
      " \u001b[32m+\u001b[39m \u001b[1mcertifi\u001b[0m\u001b[2m==2024.12.14\u001b[0m\n",
      " \u001b[32m+\u001b[39m \u001b[1mcharset-normalizer\u001b[0m\u001b[2m==3.4.1\u001b[0m\n",
      " \u001b[32m+\u001b[39m \u001b[1mfrozendict\u001b[0m\u001b[2m==2.4.6\u001b[0m\n",
      " \u001b[32m+\u001b[39m \u001b[1mhtml5lib\u001b[0m\u001b[2m==1.1\u001b[0m\n",
      " \u001b[32m+\u001b[39m \u001b[1midna\u001b[0m\u001b[2m==3.10\u001b[0m\n",
      " \u001b[32m+\u001b[39m \u001b[1mlxml\u001b[0m\u001b[2m==5.3.0\u001b[0m\n",
      " \u001b[32m+\u001b[39m \u001b[1mmultitasking\u001b[0m\u001b[2m==0.0.11\u001b[0m\n",
      " \u001b[32m+\u001b[39m \u001b[1mpeewee\u001b[0m\u001b[2m==3.17.8\u001b[0m\n",
      " \u001b[32m+\u001b[39m \u001b[1mrequests\u001b[0m\u001b[2m==2.32.3\u001b[0m\n",
      " \u001b[32m+\u001b[39m \u001b[1msoupsieve\u001b[0m\u001b[2m==2.6\u001b[0m\n",
      " \u001b[32m+\u001b[39m \u001b[1mwebencodings\u001b[0m\u001b[2m==0.5.1\u001b[0m\n",
      " \u001b[32m+\u001b[39m \u001b[1myfinance\u001b[0m\u001b[2m==0.2.52\u001b[0m\n"
     ]
    }
   ],
   "source": [
    "%%bash\n",
    "uv add yfinance"
   ]
  },
  {
   "cell_type": "code",
   "execution_count": 2,
   "metadata": {},
   "outputs": [],
   "source": [
    "import yfinance as yf"
   ]
  },
  {
   "cell_type": "code",
   "execution_count": 3,
   "metadata": {},
   "outputs": [],
   "source": [
    "def get_ticket(ticker):\n",
    "    yf_df = yf.Ticker(ticker)\n",
    "    return yf_df.history(period=\"max\")"
   ]
  },
  {
   "cell_type": "code",
   "execution_count": 4,
   "metadata": {},
   "outputs": [
    {
     "data": {
      "text/html": [
       "<div>\n",
       "<style scoped>\n",
       "    .dataframe tbody tr th:only-of-type {\n",
       "        vertical-align: middle;\n",
       "    }\n",
       "\n",
       "    .dataframe tbody tr th {\n",
       "        vertical-align: top;\n",
       "    }\n",
       "\n",
       "    .dataframe thead th {\n",
       "        text-align: right;\n",
       "    }\n",
       "</style>\n",
       "<table border=\"1\" class=\"dataframe\">\n",
       "  <thead>\n",
       "    <tr style=\"text-align: right;\">\n",
       "      <th></th>\n",
       "      <th>Open</th>\n",
       "      <th>High</th>\n",
       "      <th>Low</th>\n",
       "      <th>Close</th>\n",
       "      <th>Volume</th>\n",
       "      <th>Dividends</th>\n",
       "      <th>Stock Splits</th>\n",
       "    </tr>\n",
       "    <tr>\n",
       "      <th>Date</th>\n",
       "      <th></th>\n",
       "      <th></th>\n",
       "      <th></th>\n",
       "      <th></th>\n",
       "      <th></th>\n",
       "      <th></th>\n",
       "      <th></th>\n",
       "    </tr>\n",
       "  </thead>\n",
       "  <tbody>\n",
       "    <tr>\n",
       "      <th>2000-01-03 00:00:00-02:00</th>\n",
       "      <td>0.502635</td>\n",
       "      <td>0.512209</td>\n",
       "      <td>0.490667</td>\n",
       "      <td>0.490667</td>\n",
       "      <td>1029600</td>\n",
       "      <td>0.0</td>\n",
       "      <td>0.0</td>\n",
       "    </tr>\n",
       "    <tr>\n",
       "      <th>2000-01-04 00:00:00-02:00</th>\n",
       "      <td>0.490667</td>\n",
       "      <td>0.491864</td>\n",
       "      <td>0.467330</td>\n",
       "      <td>0.467330</td>\n",
       "      <td>628200</td>\n",
       "      <td>0.0</td>\n",
       "      <td>0.0</td>\n",
       "    </tr>\n",
       "    <tr>\n",
       "      <th>2000-01-05 00:00:00-02:00</th>\n",
       "      <td>0.466732</td>\n",
       "      <td>0.472716</td>\n",
       "      <td>0.449978</td>\n",
       "      <td>0.472118</td>\n",
       "      <td>957600</td>\n",
       "      <td>0.0</td>\n",
       "      <td>0.0</td>\n",
       "    </tr>\n",
       "    <tr>\n",
       "      <th>2000-01-06 00:00:00-02:00</th>\n",
       "      <td>0.472118</td>\n",
       "      <td>0.478700</td>\n",
       "      <td>0.466732</td>\n",
       "      <td>0.478700</td>\n",
       "      <td>410400</td>\n",
       "      <td>0.0</td>\n",
       "      <td>0.0</td>\n",
       "    </tr>\n",
       "    <tr>\n",
       "      <th>2000-01-07 00:00:00-02:00</th>\n",
       "      <td>0.478700</td>\n",
       "      <td>0.478700</td>\n",
       "      <td>0.467929</td>\n",
       "      <td>0.467929</td>\n",
       "      <td>788400</td>\n",
       "      <td>0.0</td>\n",
       "      <td>0.0</td>\n",
       "    </tr>\n",
       "  </tbody>\n",
       "</table>\n",
       "</div>"
      ],
      "text/plain": [
       "                               Open      High       Low     Close   Volume  \\\n",
       "Date                                                                         \n",
       "2000-01-03 00:00:00-02:00  0.502635  0.512209  0.490667  0.490667  1029600   \n",
       "2000-01-04 00:00:00-02:00  0.490667  0.491864  0.467330  0.467330   628200   \n",
       "2000-01-05 00:00:00-02:00  0.466732  0.472716  0.449978  0.472118   957600   \n",
       "2000-01-06 00:00:00-02:00  0.472118  0.478700  0.466732  0.478700   410400   \n",
       "2000-01-07 00:00:00-02:00  0.478700  0.478700  0.467929  0.467929   788400   \n",
       "\n",
       "                           Dividends  Stock Splits  \n",
       "Date                                                \n",
       "2000-01-03 00:00:00-02:00        0.0           0.0  \n",
       "2000-01-04 00:00:00-02:00        0.0           0.0  \n",
       "2000-01-05 00:00:00-02:00        0.0           0.0  \n",
       "2000-01-06 00:00:00-02:00        0.0           0.0  \n",
       "2000-01-07 00:00:00-02:00        0.0           0.0  "
      ]
     },
     "execution_count": 4,
     "metadata": {},
     "output_type": "execute_result"
    }
   ],
   "source": [
    "bbas = get_ticket(\"BBAS3.SA\")\n",
    "bbas.head()"
   ]
  },
  {
   "cell_type": "code",
   "execution_count": null,
   "metadata": {},
   "outputs": [],
   "source": []
  }
 ],
 "metadata": {
  "kernelspec": {
   "display_name": ".venv",
   "language": "python",
   "name": "python3"
  },
  "language_info": {
   "codemirror_mode": {
    "name": "ipython",
    "version": 3
   },
   "file_extension": ".py",
   "mimetype": "text/x-python",
   "name": "python",
   "nbconvert_exporter": "python",
   "pygments_lexer": "ipython3",
   "version": "3.12.3"
  }
 },
 "nbformat": 4,
 "nbformat_minor": 2
}
