{
 "cells": [
  {
   "cell_type": "markdown",
   "metadata": {},
   "source": [
    "### CESAR School :: Especialização em Ciência de Dados :: 2024.1\n",
    "Aula 02 :: xxxxx\n",
    "\n",
    "Séries Temporais\n",
    "\n",
    "```\n",
    "Data: 23 de janeiro de 2025 \n",
    "Prof.: Pedro Braga\n",
    "Aluno: Marlos Ribeiro\n",
    "```"
   ]
  },
  {
   "cell_type": "code",
   "execution_count": 3,
   "metadata": {},
   "outputs": [
    {
     "name": "stderr",
     "output_type": "stream",
     "text": [
      "  % Total    % Received % Xferd  Average Speed   Time    Time     Time  Current\n",
      "                                 Dload  Upload   Total   Spent    Left  Speed\n",
      "  0     0    0     0    0     0      0      0 --:--:-- --:--:-- --:--:--     0\n",
      "100 3345k  100 3345k    0     0  1721k      0  0:00:01  0:00:01 --:--:-- 3568k\n"
     ]
    },
    {
     "name": "stdout",
     "output_type": "stream",
     "text": [
      "Archive:  ../data/cinema-ticket.zip\n",
      "  inflating: ../data/cinemaTicket_Ref.csv  \n"
     ]
    }
   ],
   "source": [
    "%%bash\n",
    "mkdir -p ../data\n",
    "curl -L -o ../data/cinema-ticket.zip\\\n",
    "    https://www.kaggle.com/api/v1/datasets/download/arashnic/cinema-ticket\n",
    "unzip -n -d ../data ../data/cinema-ticket.zip\n",
    "rm -f ../data/cinema-ticket.zip"
   ]
  },
  {
   "cell_type": "code",
   "execution_count": 4,
   "metadata": {},
   "outputs": [
    {
     "name": "stderr",
     "output_type": "stream",
     "text": [
      "\u001b[2mResolved \u001b[1m38 packages\u001b[0m \u001b[2min 178ms\u001b[0m\u001b[0m\n",
      "\u001b[2mPrepared \u001b[1m2 packages\u001b[0m \u001b[2min 377ms\u001b[0m\u001b[0m\n",
      "\u001b[2mInstalled \u001b[1m4 packages\u001b[0m \u001b[2min 43ms\u001b[0m\u001b[0m\n",
      " \u001b[32m+\u001b[39m \u001b[1mnumpy\u001b[0m\u001b[2m==2.2.2\u001b[0m\n",
      " \u001b[32m+\u001b[39m \u001b[1mpandas\u001b[0m\u001b[2m==2.2.3\u001b[0m\n",
      " \u001b[32m+\u001b[39m \u001b[1mpytz\u001b[0m\u001b[2m==2024.2\u001b[0m\n",
      " \u001b[32m+\u001b[39m \u001b[1mtzdata\u001b[0m\u001b[2m==2025.1\u001b[0m\n"
     ]
    }
   ],
   "source": [
    "%%bash\n",
    "uv add pandas"
   ]
  },
  {
   "cell_type": "code",
   "execution_count": 6,
   "metadata": {},
   "outputs": [],
   "source": [
    "import pandas as pd"
   ]
  },
  {
   "cell_type": "code",
   "execution_count": 8,
   "metadata": {},
   "outputs": [
    {
     "name": "stdout",
     "output_type": "stream",
     "text": [
      "<class 'pandas.core.frame.DataFrame'>\n",
      "RangeIndex: 142524 entries, 0 to 142523\n",
      "Data columns (total 14 columns):\n",
      " #   Column        Non-Null Count   Dtype  \n",
      "---  ------        --------------   -----  \n",
      " 0   film_code     142524 non-null  int64  \n",
      " 1   cinema_code   142524 non-null  int64  \n",
      " 2   total_sales   142524 non-null  int64  \n",
      " 3   tickets_sold  142524 non-null  int64  \n",
      " 4   tickets_out   142524 non-null  int64  \n",
      " 5   show_time     142524 non-null  int64  \n",
      " 6   occu_perc     142399 non-null  float64\n",
      " 7   ticket_price  142524 non-null  float64\n",
      " 8   ticket_use    142524 non-null  int64  \n",
      " 9   capacity      142399 non-null  float64\n",
      " 10  date          142524 non-null  object \n",
      " 11  month         142524 non-null  int64  \n",
      " 12  quarter       142524 non-null  int64  \n",
      " 13  day           142524 non-null  int64  \n",
      "dtypes: float64(3), int64(10), object(1)\n",
      "memory usage: 15.2+ MB\n"
     ]
    },
    {
     "data": {
      "text/html": [
       "<div>\n",
       "<style scoped>\n",
       "    .dataframe tbody tr th:only-of-type {\n",
       "        vertical-align: middle;\n",
       "    }\n",
       "\n",
       "    .dataframe tbody tr th {\n",
       "        vertical-align: top;\n",
       "    }\n",
       "\n",
       "    .dataframe thead th {\n",
       "        text-align: right;\n",
       "    }\n",
       "</style>\n",
       "<table border=\"1\" class=\"dataframe\">\n",
       "  <thead>\n",
       "    <tr style=\"text-align: right;\">\n",
       "      <th></th>\n",
       "      <th>film_code</th>\n",
       "      <th>cinema_code</th>\n",
       "      <th>total_sales</th>\n",
       "      <th>tickets_sold</th>\n",
       "      <th>tickets_out</th>\n",
       "      <th>show_time</th>\n",
       "      <th>occu_perc</th>\n",
       "      <th>ticket_price</th>\n",
       "      <th>ticket_use</th>\n",
       "      <th>capacity</th>\n",
       "      <th>date</th>\n",
       "      <th>month</th>\n",
       "      <th>quarter</th>\n",
       "      <th>day</th>\n",
       "    </tr>\n",
       "  </thead>\n",
       "  <tbody>\n",
       "    <tr>\n",
       "      <th>0</th>\n",
       "      <td>1492</td>\n",
       "      <td>304</td>\n",
       "      <td>3900000</td>\n",
       "      <td>26</td>\n",
       "      <td>0</td>\n",
       "      <td>4</td>\n",
       "      <td>4.26</td>\n",
       "      <td>150000.0</td>\n",
       "      <td>26</td>\n",
       "      <td>610.328638</td>\n",
       "      <td>2018-05-05</td>\n",
       "      <td>5</td>\n",
       "      <td>2</td>\n",
       "      <td>5</td>\n",
       "    </tr>\n",
       "    <tr>\n",
       "      <th>1</th>\n",
       "      <td>1492</td>\n",
       "      <td>352</td>\n",
       "      <td>3360000</td>\n",
       "      <td>42</td>\n",
       "      <td>0</td>\n",
       "      <td>5</td>\n",
       "      <td>8.08</td>\n",
       "      <td>80000.0</td>\n",
       "      <td>42</td>\n",
       "      <td>519.801980</td>\n",
       "      <td>2018-05-05</td>\n",
       "      <td>5</td>\n",
       "      <td>2</td>\n",
       "      <td>5</td>\n",
       "    </tr>\n",
       "    <tr>\n",
       "      <th>2</th>\n",
       "      <td>1492</td>\n",
       "      <td>489</td>\n",
       "      <td>2560000</td>\n",
       "      <td>32</td>\n",
       "      <td>0</td>\n",
       "      <td>4</td>\n",
       "      <td>20.00</td>\n",
       "      <td>80000.0</td>\n",
       "      <td>32</td>\n",
       "      <td>160.000000</td>\n",
       "      <td>2018-05-05</td>\n",
       "      <td>5</td>\n",
       "      <td>2</td>\n",
       "      <td>5</td>\n",
       "    </tr>\n",
       "    <tr>\n",
       "      <th>3</th>\n",
       "      <td>1492</td>\n",
       "      <td>429</td>\n",
       "      <td>1200000</td>\n",
       "      <td>12</td>\n",
       "      <td>0</td>\n",
       "      <td>1</td>\n",
       "      <td>11.01</td>\n",
       "      <td>100000.0</td>\n",
       "      <td>12</td>\n",
       "      <td>108.991826</td>\n",
       "      <td>2018-05-05</td>\n",
       "      <td>5</td>\n",
       "      <td>2</td>\n",
       "      <td>5</td>\n",
       "    </tr>\n",
       "    <tr>\n",
       "      <th>4</th>\n",
       "      <td>1492</td>\n",
       "      <td>524</td>\n",
       "      <td>1200000</td>\n",
       "      <td>15</td>\n",
       "      <td>0</td>\n",
       "      <td>3</td>\n",
       "      <td>16.67</td>\n",
       "      <td>80000.0</td>\n",
       "      <td>15</td>\n",
       "      <td>89.982004</td>\n",
       "      <td>2018-05-05</td>\n",
       "      <td>5</td>\n",
       "      <td>2</td>\n",
       "      <td>5</td>\n",
       "    </tr>\n",
       "  </tbody>\n",
       "</table>\n",
       "</div>"
      ],
      "text/plain": [
       "   film_code  cinema_code  total_sales  tickets_sold  tickets_out  show_time  \\\n",
       "0       1492          304      3900000            26            0          4   \n",
       "1       1492          352      3360000            42            0          5   \n",
       "2       1492          489      2560000            32            0          4   \n",
       "3       1492          429      1200000            12            0          1   \n",
       "4       1492          524      1200000            15            0          3   \n",
       "\n",
       "   occu_perc  ticket_price  ticket_use    capacity        date  month  \\\n",
       "0       4.26      150000.0          26  610.328638  2018-05-05      5   \n",
       "1       8.08       80000.0          42  519.801980  2018-05-05      5   \n",
       "2      20.00       80000.0          32  160.000000  2018-05-05      5   \n",
       "3      11.01      100000.0          12  108.991826  2018-05-05      5   \n",
       "4      16.67       80000.0          15   89.982004  2018-05-05      5   \n",
       "\n",
       "   quarter  day  \n",
       "0        2    5  \n",
       "1        2    5  \n",
       "2        2    5  \n",
       "3        2    5  \n",
       "4        2    5  "
      ]
     },
     "execution_count": 8,
     "metadata": {},
     "output_type": "execute_result"
    }
   ],
   "source": [
    "df_cinema = pd.read_csv('../data/cinemaTicket_Ref.csv')\n",
    "df_cinema.info()\n",
    "df_cinema.head()"
   ]
  }
 ],
 "metadata": {
  "kernelspec": {
   "display_name": ".venv",
   "language": "python",
   "name": "python3"
  },
  "language_info": {
   "codemirror_mode": {
    "name": "ipython",
    "version": 3
   },
   "file_extension": ".py",
   "mimetype": "text/x-python",
   "name": "python",
   "nbconvert_exporter": "python",
   "pygments_lexer": "ipython3",
   "version": "3.12.3"
  }
 },
 "nbformat": 4,
 "nbformat_minor": 2
}
